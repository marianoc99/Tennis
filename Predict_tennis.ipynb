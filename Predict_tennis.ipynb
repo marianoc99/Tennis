{
 "cells": [
  {
   "cell_type": "markdown",
   "metadata": {},
   "source": [
    "# Predicting tennis outcomes"
   ]
  },
  {
   "cell_type": "markdown",
   "metadata": {},
   "source": [
    "### Import Libraries"
   ]
  },
  {
   "cell_type": "code",
   "execution_count": 55,
   "metadata": {
    "id": "AcLYy0cM_eTc"
   },
   "outputs": [],
   "source": [
    "import pandas as pd\n",
    "import numpy as np\n",
    "import random #Generating random numbers\n",
    "from datetime import datetime #Working with time data\n",
    "import matplotlib.pyplot as plt # Plot library 1\n",
    "import seaborn as sns #Plot library 2\n",
    "import math\n",
    "\n",
    "# Libraries for doing requests on ESPN\n",
    "import requests\n",
    "import json\n",
    "\n",
    "# Machine Learning libraries\n",
    "from sklearn.linear_model import LogisticRegression\n",
    "from sklearn.model_selection import train_test_split\n",
    "from sklearn.preprocessing import LabelEncoder\n",
    "from sklearn.metrics import confusion_matrix\n",
    "from sklearn.metrics import accuracy_score"
   ]
  },
  {
   "cell_type": "markdown",
   "metadata": {},
   "source": [
    "### Import Datasets"
   ]
  },
  {
   "cell_type": "code",
   "execution_count": 10,
   "metadata": {
    "colab": {
     "base_uri": "https://localhost:8080/",
     "height": 235
    },
    "id": "7MjoegYm_kKv",
    "outputId": "cd8ae3fe-05c7-4d99-b167-dbcb144818ee"
   },
   "outputs": [],
   "source": [
    "#Players\n",
    "players_df = pd.read_csv(\"atp_players.csv\")\n",
    "players_df[\"full_name\"] = players_df[\"name_first\"] + \" \" + players_df[\"name_last\"]\n",
    "\n",
    "#Newest Rankings - sorted\n",
    "rankings_df = pd.read_csv(\"atp_rankings_current.csv\")\n",
    "newest_version = rankings_df.sort_values(\"ranking_date\", ascending = False).loc[0,\"ranking_date\"]\n",
    "rankings_df = rankings_df.loc[rankings_df[\"ranking_date\"] == newest_version]\n",
    "rankings_df = rankings_df.sort_values(\"rank\", ascending = True, ignore_index=True)\n",
    "rankings_df['ranking_date'] = pd.to_datetime(rankings_df['ranking_date'], format='%Y%m%d')\n",
    "\n",
    "#Matches between 2001 and 2023\n",
    "matches = pd.DataFrame()\n",
    "for year in range(2001,2024):\n",
    "  df = pd.read_csv(\"atp_matches_\"+ str(year) +\".csv\")\n",
    "  matches = matches.append(df)\n",
    "\n",
    "matches.index = range(len(matches))\n",
    "matches['tourney_date'] = pd.to_datetime(matches['tourney_date'], format='%Y%m%d')\n",
    "\n",
    "#Surfaces\n",
    "surfaces = {0:\"Hard\", 1: \"Clay\", 2: \"Grass\"}"
   ]
  },
  {
   "cell_type": "markdown",
   "metadata": {},
   "source": [
    "### Define Classes"
   ]
  },
  {
   "cell_type": "code",
   "execution_count": 23,
   "metadata": {
    "id": "z05xeYJRTCf1"
   },
   "outputs": [],
   "source": [
    "class Player:\n",
    "\n",
    "    def __init__(self, full_name, age = None):\n",
    "        self.name = full_name\n",
    "        self.age = age\n",
    "        self.id = int(players_df[\"player_id\"].loc[players_df[\"full_name\"] == full_name].values[0])\n",
    "        self.nationality = players_df[\"ioc\"].loc[players_df[\"full_name\"] == full_name].values[0]\n",
    "        self.hand = players_df[\"hand\"].loc[players_df[\"full_name\"] == full_name].values[0]\n",
    "        self.height = players_df[\"height\"].loc[players_df[\"full_name\"] == full_name].values[0]\n",
    "        self.n_wins = len(matches.loc[matches[\"winner_id\"] == self.id].index)\n",
    "        self.n_losses = len(matches.loc[matches[\"loser_id\"] == self.id].index)\n",
    "        self.total_matches = self.n_wins + self.n_losses\n",
    "    \n",
    "        #Winning Percentage\n",
    "        if self.total_matches > 0:\n",
    "            self.winning_percentage = self.n_wins/(self.total_matches)\n",
    "        else:\n",
    "            self.winning_percentage = \"\"\n",
    "\n",
    "        #Best Surface\n",
    "        try:\n",
    "            wp_surfaces = list(map(self.get_winning_perc_per_surface,(\"Hard\",\"Clay\",\"Grass\")))\n",
    "            index_max = max(range(len(wp_surfaces)), key=wp_surfaces.__getitem__)\n",
    "            self.best_surface = surfaces[index_max]\n",
    "        except TypeError:\n",
    "            self.best_surface = \"\"\n",
    "\n",
    "    def get_current_ranking(self, current_date):\n",
    "        ranking_data = rankings_df.loc[(rankings_df[\"player\"] == self.id) & (rankings_df[\"ranking_date\"] <= current_date)]\n",
    "        ranking_data = ranking_data.sort_values(by=\"ranking_date\", ascending=False)\n",
    "        if not ranking_data.empty:\n",
    "            return ranking_data.iloc[0][\"rank\"]\n",
    "        else:\n",
    "            return None\n",
    "        \n",
    "    \n",
    "    def get_winning_perc_per_surface(self,surface):\n",
    "        n_wins = len(matches.loc[(matches[\"surface\"] == surface) & (matches[\"winner_id\"] == self.id)].index)\n",
    "        n_losses = len(matches.loc[(matches[\"surface\"] == surface) & (matches[\"loser_id\"] == self.id)].index)\n",
    "        \n",
    "        if (n_wins+n_losses) > 0:\n",
    "            return(n_wins/(n_wins+n_losses))\n",
    "        else:\n",
    "            return 0\n",
    "\n",
    "\n",
    "    def get_head_to_head_winning_perc(self,opponent):\n",
    "        opponent_id = Player(opponent).id\n",
    "        n_wins = len(matches.loc[(matches[\"winner_id\"] == self.id) &\n",
    "                                 (matches[\"loser_id\"] == opponent_id)].index)\n",
    "        n_losses = len(matches.loc[(matches[\"loser_id\"] == self.id) &\n",
    "                                   (matches[\"winner_id\"] == opponent_id)].index)\n",
    "        \n",
    "        if (n_wins + n_losses) == 0:\n",
    "            return 0.5\n",
    "        else:\n",
    "            return n_wins/(n_wins + n_losses)\n",
    "\n",
    "    def get_aces_per_match(self):\n",
    "        if self.total_matches != 0:\n",
    "            aces_wins = matches[\"w_ace\"].loc[matches[\"winner_id\"] == self.id].sum()\n",
    "            aces_losses = matches[\"l_ace\"].loc[matches[\"loser_id\"] == self.id].sum()\n",
    "            return (aces_wins + aces_losses)/self.total_matches\n",
    "\n",
    "    def get_double_faults_per_match(self):\n",
    "        if self.total_matches != 0:\n",
    "            df_wins = matches[\"w_df\"].loc[matches[\"winner_id\"] == self.id].sum()\n",
    "            df_losses = matches[\"l_df\"].loc[matches[\"loser_id\"] == self.id].sum()\n",
    "            return (df_wins + df_losses)/self.total_matches\n",
    "        \n",
    "        else:\n",
    "            return 0\n",
    "\n",
    "    def calculate_win_percentage_last_3_months(self, gameday):\n",
    "        #gameday = pd.to_datetime(str(gameday), format='%Y%m%d')\n",
    "\n",
    "        # Calculate the start date of the 3-month period\n",
    "        three_months_ago = gameday - pd.DateOffset(months=3)\n",
    "\n",
    "        # Filter matches DataFrame to include only matches played in the last 3 months\n",
    "        mask = (matches['tourney_date'] >= pd.Timestamp(three_months_ago)) & (matches['tourney_date'] <= pd.Timestamp(gameday))\n",
    "        player_matches = matches[(matches['winner_id'] == self.id) | (matches['loser_id'] == self.id)][mask]\n",
    "\n",
    "        # Calculate number of games won and lost by player\n",
    "        games_won_last_3_months = len(player_matches[player_matches['winner_id'] == self.id])\n",
    "        games_lost_last_3_months = len(player_matches[player_matches['loser_id'] == self.id])\n",
    "\n",
    "        # Calculate win percentage\n",
    "        total_games_last_3_months = games_won_last_3_months + games_lost_last_3_months\n",
    "        win_percentage = games_won_last_3_months / total_games_last_3_months if total_games_last_3_months > 0 else None\n",
    "\n",
    "        return win_percentage\n",
    "    \n",
    "    def summary(self, suffix=''):\n",
    "        data = {\n",
    "                f\"Player{suffix}\": [self.name],\n",
    "                f\"Age{suffix}\": [self.age],\n",
    "                f\"Winning %{suffix}\": [self.winning_percentage],\n",
    "                f\"Avg. Aces/Match{suffix}\": [self.get_aces_per_match()],\n",
    "                f\"Avg. Double Faults/Match{suffix}\": [self.get_double_faults_per_match()],\n",
    "                f\"Best Surface{suffix}\": [self.best_surface],\n",
    "                f\"Winning % last 3 months{suffix}\": [self.calculate_win_percentage_last_3_months(datetime.today())]\n",
    "            }\n",
    "\n",
    "        return pd.DataFrame(data)"
   ]
  },
  {
   "cell_type": "code",
   "execution_count": 34,
   "metadata": {
    "id": "CkhxQ-dPFAA0"
   },
   "outputs": [],
   "source": [
    "class Match:\n",
    "    \n",
    "    def __init__(self, match_string):\n",
    "        self.match_string = match_string\n",
    "        \n",
    "        # Separar los nombres de los jugadores\n",
    "        self.player1_name, self.player2_name = match_string.split(\" - \")\n",
    "        \n",
    "        # Crear instancias de la clase Player para cada jugador\n",
    "        self.player1 = Player(self.player1_name)\n",
    "        self.player2 = Player(self.player2_name)\n",
    "        \n",
    "        \n",
    "    def run_model(self,surface):\n",
    "        #Ranking attributes\n",
    "        self.ranking1 = self.player1.get_current_ranking(datetime.today())\n",
    "        self.ranking2 = self.player1.get_current_ranking(datetime.today())\n",
    "        self.log_rank_diff = np.log(self.ranking1) - np.log(self.ranking2)\n",
    "        \n",
    "        #H2H\n",
    "        self.player_1_H2H_winning_perc = self.player1.get_head_to_head_winning_perc(self.player2_name)\n",
    "        \n",
    "        #Surface\n",
    "        self.surface = surface_mapping[surface]\n",
    "        self.player1_surface_winning_perc = self.player1.get_winning_perc_per_surface(self.surface)\n",
    "        self.player2_surface_winning_perc = self.player2.get_winning_perc_per_surface(self.surface)\n",
    "        \n",
    "        #Aces and double faults\n",
    "        self.player1_aces_per_match = self.player1.get_aces_per_match()\n",
    "        self.player2_aces_per_match = self.player1.get_aces_per_match()\n",
    "        self.player1_double_faults_per_match = self.player1.get_double_faults_per_match()\n",
    "        self.player2_double_faults_per_match = self.player2.get_double_faults_per_match()\n",
    "        \n",
    "        #Momentum\n",
    "        self.player_1_last3months_winning_perc = self.player1.calculate_win_percentage_last_3_months(datetime.today())\n",
    "        self.player_2_last3months_winning_perc = self.player2.calculate_win_percentage_last_3_months(datetime.today())\n",
    "        \n",
    "        \n",
    "        self.result_vector = [[self.log_rank_diff, self.player_1_H2H_winning_perc, self.surface,\n",
    "                              self.player1_surface_winning_perc,self.player2_surface_winning_perc,\n",
    "                              self.player1_aces_per_match, self.player2_aces_per_match,\n",
    "                              self.player1_double_faults_per_match, self.player2_double_faults_per_match,\n",
    "                              self.player_1_last3months_winning_perc, self.player_2_last3months_winning_perc]]\n",
    "        \n",
    "        result = logreg.predict(pd.DataFrame(self.result_vector, columns = input_features))\n",
    "            \n",
    "    def predict_probabilities(self):\n",
    "        t = logreg.intercept_ + np.dot(self.result_vector,np.transpose(logreg.coef_))\n",
    "        p = 1/(1 + np.exp(-t))\n",
    "        \n",
    "        if p > 1/2:\n",
    "            print(self.match_string,\"----- Prediction:\",self.player1_name, \"wins with p=\",p[0][0])\n",
    "            \n",
    "        else:\n",
    "            print(self.match_string,\"----- Prediction:\",self.player2_name, \"wins with p=\", 1-p[0][0])"
   ]
  },
  {
   "cell_type": "markdown",
   "metadata": {},
   "source": [
    "### Train ML-Model"
   ]
  },
  {
   "cell_type": "code",
   "execution_count": 17,
   "metadata": {},
   "outputs": [],
   "source": [
    "# Define function for preparing data\n",
    "def transform_matches_df(df):\n",
    "    new_df = pd.DataFrame(columns=[\"log_rank_diff\",\"player_1_H2H_winning_perc\", \"surface\", \"player_1_surface_winning_perc\",\n",
    "                                   \"player_2_surface_winning_perc\", \"aces_1_per_match\", \"aces_2_per_match\",\n",
    "                                   \"double_faults_1_per_match\", \"double_faults_2_per_match\",\n",
    "                                   \"player_1_last3months_winning_perc\",\"player_2_last3months_winning_perc\",\"player_1_wins\"])\n",
    "\n",
    "    for index, row in df.iterrows():\n",
    "        if random.randint(0, 1) == 1:\n",
    "            rank_1 = row[\"winner_rank\"]\n",
    "            rank_2 = row[\"loser_rank\"]\n",
    "            player_1 = row[\"winner_name\"]\n",
    "            player_2 = row[\"loser_name\"]\n",
    "            p1_wins = 1\n",
    "\n",
    "        else:\n",
    "            rank_1 = row[\"loser_rank\"]\n",
    "            rank_2 = row[\"winner_rank\"]\n",
    "            player_1 = row[\"loser_name\"]\n",
    "            player_2 = row[\"winner_name\"]\n",
    "            p1_wins = 0\n",
    "        \n",
    "        p1 = Player(player_1)\n",
    "        p2 = Player(player_2)\n",
    "        \n",
    "        #Surface\n",
    "        surface = row[\"surface\"]\n",
    "        \n",
    "        #H2H winning percentage of Player 1\n",
    "        player_1_H2H_winning_perc = p1.get_head_to_head_winning_perc(player_2)\n",
    "        \n",
    "        #Winning Percentage per Surface\n",
    "        player_1_surface_winning_perc = p1.get_winning_perc_per_surface(surface)\n",
    "        player_2_surface_winning_perc = p2.get_winning_perc_per_surface(surface)\n",
    "        \n",
    "        #Aces per match\n",
    "        aces_1_per_match = p1.get_aces_per_match()\n",
    "        aces_2_per_match = p2.get_aces_per_match()\n",
    "        \n",
    "        #Double Faults per match\n",
    "        double_faults_1_per_match = p1.get_double_faults_per_match()\n",
    "        double_faults_2_per_match = p2.get_double_faults_per_match()\n",
    "        \n",
    "        #Winning percentage last 3 months\n",
    "        player_1_last3months_winning_perc = p1.calculate_win_percentage_last_3_months(row[\"tourney_date\"])\n",
    "        player_2_last3months_winning_perc = p2.calculate_win_percentage_last_3_months(row[\"tourney_date\"])\n",
    "\n",
    "        new_df = new_df.append({\"log_rank_diff\": np.log(rank_1) - np.log(rank_2),\n",
    "                                \"player_1_H2H_winning_perc\": player_1_H2H_winning_perc,\n",
    "                                \"surface\": surface,\n",
    "                                \"player_1_surface_winning_perc\": player_1_surface_winning_perc,\n",
    "                                \"player_2_surface_winning_perc\": player_2_surface_winning_perc,\n",
    "                                \"aces_1_per_match\": aces_1_per_match,\n",
    "                                \"aces_2_per_match\": aces_2_per_match,\n",
    "                                \"double_faults_1_per_match\": double_faults_1_per_match,\n",
    "                                \"double_faults_2_per_match\": double_faults_2_per_match,\n",
    "                                \"player_1_last3months_winning_perc\": player_1_last3months_winning_perc,\n",
    "                                \"player_2_last3months_winning_perc\": player_2_last3months_winning_perc,\n",
    "                                \"player_1_wins\": p1_wins}, ignore_index=True)\n",
    "\n",
    "    return new_df"
   ]
  },
  {
   "cell_type": "code",
   "execution_count": 53,
   "metadata": {},
   "outputs": [
    {
     "name": "stderr",
     "output_type": "stream",
     "text": [
      "C:\\Users\\marianocarmona\\AppData\\Local\\miniconda\\envs\\v37\\lib\\site-packages\\ipykernel_launcher.py:82: UserWarning: Boolean Series key will be reindexed to match DataFrame index.\n"
     ]
    }
   ],
   "source": [
    "# Tomemos 700 partidos\n",
    "np.random.seed(0)\n",
    "random_index = np.random.randint(low = 0, high = len(matches) - 1, size = 2500)\n",
    "df = transform_matches_df(matches.loc[random_index])"
   ]
  },
  {
   "cell_type": "code",
   "execution_count": 54,
   "metadata": {},
   "outputs": [
    {
     "data": {
      "text/html": [
       "<div>\n",
       "<style scoped>\n",
       "    .dataframe tbody tr th:only-of-type {\n",
       "        vertical-align: middle;\n",
       "    }\n",
       "\n",
       "    .dataframe tbody tr th {\n",
       "        vertical-align: top;\n",
       "    }\n",
       "\n",
       "    .dataframe thead th {\n",
       "        text-align: right;\n",
       "    }\n",
       "</style>\n",
       "<table border=\"1\" class=\"dataframe\">\n",
       "  <thead>\n",
       "    <tr style=\"text-align: right;\">\n",
       "      <th></th>\n",
       "      <th>log_rank_diff</th>\n",
       "      <th>player_1_H2H_winning_perc</th>\n",
       "      <th>surface</th>\n",
       "      <th>player_1_surface_winning_perc</th>\n",
       "      <th>player_2_surface_winning_perc</th>\n",
       "      <th>aces_1_per_match</th>\n",
       "      <th>aces_2_per_match</th>\n",
       "      <th>double_faults_1_per_match</th>\n",
       "      <th>double_faults_2_per_match</th>\n",
       "      <th>player_1_last3months_winning_perc</th>\n",
       "      <th>player_2_last3months_winning_perc</th>\n",
       "      <th>player_1_wins</th>\n",
       "    </tr>\n",
       "  </thead>\n",
       "  <tbody>\n",
       "    <tr>\n",
       "      <th>0</th>\n",
       "      <td>-0.648297</td>\n",
       "      <td>1.000000</td>\n",
       "      <td>0</td>\n",
       "      <td>0.426230</td>\n",
       "      <td>0.367925</td>\n",
       "      <td>3.202532</td>\n",
       "      <td>2.270270</td>\n",
       "      <td>3.813291</td>\n",
       "      <td>2.054054</td>\n",
       "      <td>0.500000</td>\n",
       "      <td>0.333333</td>\n",
       "      <td>1</td>\n",
       "    </tr>\n",
       "    <tr>\n",
       "      <th>1</th>\n",
       "      <td>0.619039</td>\n",
       "      <td>0.333333</td>\n",
       "      <td>2</td>\n",
       "      <td>0.350000</td>\n",
       "      <td>0.395833</td>\n",
       "      <td>8.862434</td>\n",
       "      <td>9.122977</td>\n",
       "      <td>3.624339</td>\n",
       "      <td>3.333333</td>\n",
       "      <td>0.555556</td>\n",
       "      <td>0.300000</td>\n",
       "      <td>0</td>\n",
       "    </tr>\n",
       "    <tr>\n",
       "      <th>2</th>\n",
       "      <td>0.853112</td>\n",
       "      <td>0.200000</td>\n",
       "      <td>1</td>\n",
       "      <td>0.492147</td>\n",
       "      <td>0.497872</td>\n",
       "      <td>3.576531</td>\n",
       "      <td>1.614251</td>\n",
       "      <td>1.747449</td>\n",
       "      <td>3.201474</td>\n",
       "      <td>0.500000</td>\n",
       "      <td>0.470588</td>\n",
       "      <td>0</td>\n",
       "    </tr>\n",
       "    <tr>\n",
       "      <th>3</th>\n",
       "      <td>-1.585145</td>\n",
       "      <td>1.000000</td>\n",
       "      <td>1</td>\n",
       "      <td>0.533981</td>\n",
       "      <td>0.350000</td>\n",
       "      <td>0.684864</td>\n",
       "      <td>4.675325</td>\n",
       "      <td>2.267990</td>\n",
       "      <td>4.584416</td>\n",
       "      <td>0.666667</td>\n",
       "      <td>0.285714</td>\n",
       "      <td>1</td>\n",
       "    </tr>\n",
       "    <tr>\n",
       "      <th>4</th>\n",
       "      <td>-1.822296</td>\n",
       "      <td>1.000000</td>\n",
       "      <td>1</td>\n",
       "      <td>0.548000</td>\n",
       "      <td>0.250000</td>\n",
       "      <td>3.539726</td>\n",
       "      <td>3.125000</td>\n",
       "      <td>3.378082</td>\n",
       "      <td>3.875000</td>\n",
       "      <td>0.588235</td>\n",
       "      <td>0.500000</td>\n",
       "      <td>1</td>\n",
       "    </tr>\n",
       "  </tbody>\n",
       "</table>\n",
       "</div>"
      ],
      "text/plain": [
       "   log_rank_diff  player_1_H2H_winning_perc  surface  \\\n",
       "0      -0.648297                   1.000000        0   \n",
       "1       0.619039                   0.333333        2   \n",
       "2       0.853112                   0.200000        1   \n",
       "3      -1.585145                   1.000000        1   \n",
       "4      -1.822296                   1.000000        1   \n",
       "\n",
       "   player_1_surface_winning_perc  player_2_surface_winning_perc  \\\n",
       "0                       0.426230                       0.367925   \n",
       "1                       0.350000                       0.395833   \n",
       "2                       0.492147                       0.497872   \n",
       "3                       0.533981                       0.350000   \n",
       "4                       0.548000                       0.250000   \n",
       "\n",
       "   aces_1_per_match  aces_2_per_match  double_faults_1_per_match  \\\n",
       "0          3.202532          2.270270                   3.813291   \n",
       "1          8.862434          9.122977                   3.624339   \n",
       "2          3.576531          1.614251                   1.747449   \n",
       "3          0.684864          4.675325                   2.267990   \n",
       "4          3.539726          3.125000                   3.378082   \n",
       "\n",
       "   double_faults_2_per_match  player_1_last3months_winning_perc  \\\n",
       "0                   2.054054                           0.500000   \n",
       "1                   3.333333                           0.555556   \n",
       "2                   3.201474                           0.500000   \n",
       "3                   4.584416                           0.666667   \n",
       "4                   3.875000                           0.588235   \n",
       "\n",
       "   player_2_last3months_winning_perc player_1_wins  \n",
       "0                           0.333333             1  \n",
       "1                           0.300000             0  \n",
       "2                           0.470588             0  \n",
       "3                           0.285714             1  \n",
       "4                           0.500000             1  "
      ]
     },
     "execution_count": 54,
     "metadata": {},
     "output_type": "execute_result"
    }
   ],
   "source": [
    "#Map categorical variable 'surface' to integer values\n",
    "surface_mapping = {'Hard': 0, 'Clay': 1, 'Grass': 2, 'Carpet': 3}\n",
    "df['surface'] = df['surface'].replace(surface_mapping)\n",
    "\n",
    "\n",
    "# Define the input features and the target attribute\n",
    "input_features = [\"log_rank_diff\",\"player_1_H2H_winning_perc\", \"surface\", \"player_1_surface_winning_perc\",\n",
    "                                   \"player_2_surface_winning_perc\", \"aces_1_per_match\", \"aces_2_per_match\",\n",
    "                                   \"double_faults_1_per_match\", \"double_faults_2_per_match\",\n",
    "                                   \"player_1_last3months_winning_perc\",\"player_2_last3months_winning_perc\"]\n",
    "\n",
    "output_feature = \"player_1_wins\"\n",
    "\n",
    "#Filter out NAs\n",
    "df = df.dropna()\n",
    "df.head()"
   ]
  },
  {
   "cell_type": "code",
   "execution_count": 56,
   "metadata": {},
   "outputs": [
    {
     "name": "stdout",
     "output_type": "stream",
     "text": [
      "Training set score: 0.871\n",
      "Test set score: 0.889\n",
      "Optimization terminated successfully.\n",
      "         Current function value: 0.269914\n",
      "         Iterations 8\n",
      "                                 Results: Logit\n",
      "=================================================================================\n",
      "Model:                     Logit                 Pseudo R-squared:      0.610    \n",
      "Dependent Variable:        y                     AIC:                   1071.4253\n",
      "Date:                      2023-03-13 12:19      BIC:                   1132.7228\n",
      "No. Observations:          1944                  Log-Likelihood:        -524.71  \n",
      "Df Model:                  10                    LL-Null:               -1346.5  \n",
      "Df Residuals:              1933                  LLR p-value:           0.0000   \n",
      "Converged:                 1.0000                Scale:                 1.0000   \n",
      "No. Iterations:            8.0000                                                \n",
      "---------------------------------------------------------------------------------\n",
      "                                   Coef.  Std.Err.    z    P>|z|   [0.025  0.975]\n",
      "---------------------------------------------------------------------------------\n",
      "log_rank_diff                      0.2382   0.0717  3.3227 0.0009  0.0977  0.3787\n",
      "player_1_H2H_winning_perc          6.4138   0.3497 18.3401 0.0000  5.7284  7.0992\n",
      "surface                           -0.1731   0.1054 -1.6424 0.1005 -0.3797  0.0335\n",
      "player_1_surface_winning_perc     -1.4241   0.7821 -1.8208 0.0686 -2.9570  0.1088\n",
      "player_2_surface_winning_perc     -0.9256   0.7691 -1.2035 0.2288 -2.4330  0.5818\n",
      "aces_1_per_match                  -0.0152   0.0271 -0.5599 0.5756 -0.0682  0.0379\n",
      "aces_2_per_match                   0.0317   0.0264  1.1994 0.2304 -0.0201  0.0835\n",
      "double_faults_1_per_match         -0.2146   0.0937 -2.2905 0.0220 -0.3983 -0.0310\n",
      "double_faults_2_per_match         -0.3719   0.0928 -4.0075 0.0001 -0.5538 -0.1900\n",
      "player_1_last3months_winning_perc  5.4936   0.6341  8.6638 0.0000  4.2508  6.7364\n",
      "player_2_last3months_winning_perc -6.0563   0.6407 -9.4531 0.0000 -7.3120 -4.8006\n",
      "=================================================================================\n",
      "\n"
     ]
    }
   ],
   "source": [
    "le = LabelEncoder()\n",
    "\n",
    "\n",
    "# Split the transformed dataset into training and testing sets\n",
    "X_train, X_test, y_train, y_test = train_test_split(df.drop(\"player_1_wins\", axis=1),\n",
    "                                                    pd.Series(df[\"player_1_wins\"]),\n",
    "                                                    test_size=0.2,\n",
    "                                                    random_state=42)\n",
    "\n",
    "\n",
    "y_train = le.fit_transform(y_train)\n",
    "y_test = le.fit_transform(y_test)\n",
    "\n",
    "# Train a logistic regression model\n",
    "logreg = LogisticRegression()\n",
    "logreg.fit(X_train, y_train)\n",
    "\n",
    "# Make predictions on the test set\n",
    "y_pred = logreg.predict(X_test)\n",
    "print(\"Training set score: {:.3f}\".format(logreg.score(X_train,y_train)))\n",
    "print(\"Test set score: {:.3f}\".format(logreg.score(X_test,y_test)))\n",
    "\n",
    "# Fit the logistic regression model\n",
    "logit_model = sm.Logit(y_train, X_train)\n",
    "result = logit_model.fit()\n",
    "\n",
    "# Get the summary table\n",
    "summary = result.summary2()\n",
    "\n",
    "# Print the summary table\n",
    "print(summary)"
   ]
  },
  {
   "cell_type": "markdown",
   "metadata": {},
   "source": [
    "### Visualize results of the model"
   ]
  },
  {
   "cell_type": "code",
   "execution_count": 39,
   "metadata": {},
   "outputs": [
    {
     "name": "stdout",
     "output_type": "stream",
     "text": [
      "Accuracy: 0.89419795221843\n"
     ]
    },
    {
     "data": {
      "image/png": "[encoded data removed]",
      "text/plain": [
       "<Figure size 640x480 with 2 Axes>"
      ]
     },
     "metadata": {},
     "output_type": "display_data"
    }
   ],
   "source": [
    "# Evaluate the model's accuracy\n",
    "accuracy = accuracy_score(y_test, y_pred)\n",
    "print(\"Accuracy:\", accuracy)\n",
    "\n",
    "#Confusion matrix\n",
    "# Compute confusion matrix\n",
    "cm = confusion_matrix(y_test, y_pred)\n",
    "\n",
    "# Plot confusion matrix\n",
    "sns.heatmap(cm, annot=True, fmt='d')\n",
    "plt.xlabel('Predicted')\n",
    "plt.ylabel('Actual')\n",
    "plt.show()"
   ]
  },
  {
   "cell_type": "markdown",
   "metadata": {},
   "source": [
    "### Get data from ESPN website"
   ]
  },
  {
   "cell_type": "code",
   "execution_count": 41,
   "metadata": {
    "id": "hMG0fRElnLWm"
   },
   "outputs": [
    {
     "name": "stdout",
     "output_type": "stream",
     "text": [
      "El archivo se ha guardado con éxito\n"
     ]
    }
   ],
   "source": [
    "# Hacemos una solicitud a la API de tenis de ESPN\n",
    "response = requests.get('https://site.api.espn.com/apis/site/v2/sports/tennis/atp/scoreboard')\n",
    "\n",
    "# Verificamos si la solicitud fue exitosa\n",
    "if response.status_code == 200:\n",
    "    # Obtenemos la información de los partidos\n",
    "    data = response.json()['events']\n",
    "    \n",
    "    # Guardamos el archivo json\n",
    "    with open('datos.json', 'w') as archivo:\n",
    "        json.dump(data, archivo)\n",
    "    print(\"El archivo se ha guardado con éxito\")\n",
    "\n",
    "else:\n",
    "    # Si la solicitud no fue exitosa, mostramos un mensaje de error\n",
    "    print(\"Error al obtener los partidos. Código de estado: \", response.status_code)"
   ]
  },
  {
   "cell_type": "code",
   "execution_count": 42,
   "metadata": {
    "id": "QYKL1PcywrV3"
   },
   "outputs": [],
   "source": [
    "# Obtenemos la información de los partidos\n",
    "with open('datos.json') as archivo:\n",
    "    data = json.load(archivo)\n",
    "\n",
    "# Recorremos cada partido y mostramos el nombre de los jugadores si el partido es programado para hoy\n",
    "l_matches = []\n",
    "for i in range(len(data[0][\"competitions\"])):\n",
    "    if data[0][\"competitions\"][i][\"status\"][\"type\"][\"completed\"] == False:\n",
    "        try:\n",
    "            Player_1 = data[0][\"competitions\"][i][\"competitors\"][0]['athlete'][\"fullName\"]\n",
    "            Player_2 = data[0][\"competitions\"][i][\"competitors\"][1]['athlete'][\"fullName\"]\n",
    "            l_matches += [Player_1 + \" - \" + Player_2]\n",
    "        except KeyError:\n",
    "            pass\n",
    "\n",
    "#Elimino a los partidos que todavia no tienen confirmados a sus jugadores\n",
    "l_matches = [p for p in l_matches if \"TBD\" not in p]\n",
    "\n",
    "#Jaja aguanten Aliassime y Wawrinka\n",
    "l_matches = [p.replace(\"Auger-Aliassime\",\"Auger Aliassime\") if \"Auger-Aliassime\"  in p else p for p in l_matches]\n",
    "l_matches = [p.replace(\"Stanislas\",\"Stan\") if \"Stanislas Wawrinka\" in p else p for p in l_matches]"
   ]
  },
  {
   "cell_type": "code",
   "execution_count": 44,
   "metadata": {
    "id": "iiUpcxlaFPv8"
   },
   "outputs": [
    {
     "name": "stderr",
     "output_type": "stream",
     "text": [
      "C:\\Users\\marianocarmona\\AppData\\Local\\miniconda\\envs\\v37\\lib\\site-packages\\ipykernel_launcher.py:82: UserWarning: Boolean Series key will be reindexed to match DataFrame index.\n",
      "C:\\Users\\marianocarmona\\AppData\\Local\\miniconda\\envs\\v37\\lib\\site-packages\\ipykernel_launcher.py:82: UserWarning: Boolean Series key will be reindexed to match DataFrame index.\n",
      "C:\\Users\\marianocarmona\\AppData\\Local\\miniconda\\envs\\v37\\lib\\site-packages\\ipykernel_launcher.py:82: UserWarning: Boolean Series key will be reindexed to match DataFrame index.\n"
     ]
    },
    {
     "name": "stdout",
     "output_type": "stream",
     "text": [
      "Cristian Garin - Casper Ruud ----- Prediction: Cristian Garin wins with p= 0.794821967941013\n",
      "Francisco Cerundolo - Felix Auger Aliassime ----- Prediction: Felix Auger Aliassime wins with p= 0.9489403067167985\n",
      "Hubert Hurkacz - Tommy Paul ----- Prediction: Hubert Hurkacz wins with p= 0.9745165426756304\n"
     ]
    },
    {
     "name": "stderr",
     "output_type": "stream",
     "text": [
      "C:\\Users\\marianocarmona\\AppData\\Local\\miniconda\\envs\\v37\\lib\\site-packages\\ipykernel_launcher.py:82: UserWarning: Boolean Series key will be reindexed to match DataFrame index.\n",
      "C:\\Users\\marianocarmona\\AppData\\Local\\miniconda\\envs\\v37\\lib\\site-packages\\ipykernel_launcher.py:82: UserWarning: Boolean Series key will be reindexed to match DataFrame index.\n"
     ]
    },
    {
     "name": "stdout",
     "output_type": "stream",
     "text": [
      "Stan Wawrinka - Holger Rune ----- Prediction: Holger Rune wins with p= 0.9410297629970711\n",
      "Jannik Sinner - Adrian Mannarino ----- Prediction: Jannik Sinner wins with p= 0.9858129263256851\n"
     ]
    },
    {
     "name": "stderr",
     "output_type": "stream",
     "text": [
      "C:\\Users\\marianocarmona\\AppData\\Local\\miniconda\\envs\\v37\\lib\\site-packages\\ipykernel_launcher.py:82: UserWarning: Boolean Series key will be reindexed to match DataFrame index.\n",
      "C:\\Users\\marianocarmona\\AppData\\Local\\miniconda\\envs\\v37\\lib\\site-packages\\ipykernel_launcher.py:82: UserWarning: Boolean Series key will be reindexed to match DataFrame index.\n",
      "C:\\Users\\marianocarmona\\AppData\\Local\\miniconda\\envs\\v37\\lib\\site-packages\\ipykernel_launcher.py:82: UserWarning: Boolean Series key will be reindexed to match DataFrame index.\n"
     ]
    },
    {
     "name": "stdout",
     "output_type": "stream",
     "text": [
      "Alex Molcan - Marton Fucsovics ----- Prediction: Marton Fucsovics wins with p= 0.5240059498100682\n",
      "Taylor Fritz - Sebastian Baez ----- Prediction: Taylor Fritz wins with p= 0.9882167265545495\n",
      "Jack Draper - Andy Murray ----- Prediction: Jack Draper wins with p= 0.6073228451072663\n",
      "Carlos Alcaraz - Tallon Griekspoor ----- Prediction: Carlos Alcaraz wins with p= 0.9804584915265814\n"
     ]
    },
    {
     "name": "stderr",
     "output_type": "stream",
     "text": [
      "C:\\Users\\marianocarmona\\AppData\\Local\\miniconda\\envs\\v37\\lib\\site-packages\\ipykernel_launcher.py:82: UserWarning: Boolean Series key will be reindexed to match DataFrame index.\n",
      "C:\\Users\\marianocarmona\\AppData\\Local\\miniconda\\envs\\v37\\lib\\site-packages\\ipykernel_launcher.py:82: UserWarning: Boolean Series key will be reindexed to match DataFrame index.\n"
     ]
    },
    {
     "name": "stdout",
     "output_type": "stream",
     "text": [
      "Frances Tiafoe - Alejandro Tabilo ----- Prediction: Frances Tiafoe wins with p= 0.950809509309861\n",
      "Andrey Rublev - Cameron Norrie ----- Prediction: Andrey Rublev wins with p= 0.6992980519263602\n"
     ]
    },
    {
     "name": "stderr",
     "output_type": "stream",
     "text": [
      "C:\\Users\\marianocarmona\\AppData\\Local\\miniconda\\envs\\v37\\lib\\site-packages\\ipykernel_launcher.py:82: UserWarning: Boolean Series key will be reindexed to match DataFrame index.\n",
      "C:\\Users\\marianocarmona\\AppData\\Local\\miniconda\\envs\\v37\\lib\\site-packages\\ipykernel_launcher.py:82: UserWarning: Boolean Series key will be reindexed to match DataFrame index.\n"
     ]
    },
    {
     "name": "stdout",
     "output_type": "stream",
     "text": [
      "Alejandro Davidovich Fokina - Cristian Garin ----- Prediction: Alejandro Davidovich Fokina wins with p= 0.720443827006791\n",
      "Daniil Medvedev - Alexander Zverev ----- Prediction: Daniil Medvedev wins with p= 0.8794657473154471\n"
     ]
    },
    {
     "name": "stderr",
     "output_type": "stream",
     "text": [
      "C:\\Users\\marianocarmona\\AppData\\Local\\miniconda\\envs\\v37\\lib\\site-packages\\ipykernel_launcher.py:82: UserWarning: Boolean Series key will be reindexed to match DataFrame index.\n"
     ]
    }
   ],
   "source": [
    "#Predicting today's matches\n",
    "for game in l_matches:\n",
    "    m = Match(game)\n",
    "    m.run_model(\"Hard\")\n",
    "    m.predict_probabilities()"
   ]
  },
  {
   "cell_type": "markdown",
   "metadata": {},
   "source": [
    "### Getting bet data from Tipico"
   ]
  },
  {
   "cell_type": "code",
   "execution_count": 59,
   "metadata": {},
   "outputs": [
    {
     "name": "stderr",
     "output_type": "stream",
     "text": [
      "C:\\Users\\marianocarmona\\AppData\\Local\\miniconda\\envs\\v37\\lib\\site-packages\\ipykernel_launcher.py:9: DeprecationWarning: executable_path has been deprecated, please pass in a Service object\n",
      "  if __name__ == \"__main__\":\n"
     ]
    },
    {
     "ename": "AttributeError",
     "evalue": "'WebDriver' object has no attribute 'find_element_by_xpath'",
     "output_type": "error",
     "traceback": [
      "\u001b[1;31m---------------------------------------------------------------------------\u001b[0m",
      "\u001b[1;31mAttributeError\u001b[0m                            Traceback (most recent call last)",
      "\u001b[1;32m~\\AppData\\Local\\Temp\\ipykernel_7124\\3495484053.py\u001b[0m in \u001b[0;36m<module>\u001b[1;34m\u001b[0m\n\u001b[0;32m     12\u001b[0m \u001b[1;31m#Make ChromeDriver click a button\u001b[0m\u001b[1;33m\u001b[0m\u001b[1;33m\u001b[0m\u001b[1;33m\u001b[0m\u001b[0m\n\u001b[0;32m     13\u001b[0m \u001b[0mtime\u001b[0m\u001b[1;33m.\u001b[0m\u001b[0msleep\u001b[0m\u001b[1;33m(\u001b[0m\u001b[1;36m5\u001b[0m\u001b[1;33m)\u001b[0m \u001b[1;31m#add implicit wait, if necessary\u001b[0m\u001b[1;33m\u001b[0m\u001b[1;33m\u001b[0m\u001b[0m\n\u001b[1;32m---> 14\u001b[1;33m \u001b[0maccept\u001b[0m \u001b[1;33m=\u001b[0m \u001b[0mdriver\u001b[0m\u001b[1;33m.\u001b[0m\u001b[0mfind_element_by_xpath\u001b[0m\u001b[1;33m(\u001b[0m\u001b[1;34m'//*[@id=\"_evidon-accept-button\"]'\u001b[0m\u001b[1;33m)\u001b[0m\u001b[1;33m\u001b[0m\u001b[1;33m\u001b[0m\u001b[0m\n\u001b[0m\u001b[0;32m     15\u001b[0m \u001b[0maccept\u001b[0m\u001b[1;33m.\u001b[0m\u001b[0mclick\u001b[0m\u001b[1;33m(\u001b[0m\u001b[1;33m)\u001b[0m\u001b[1;33m\u001b[0m\u001b[1;33m\u001b[0m\u001b[0m\n\u001b[0;32m     16\u001b[0m \u001b[1;33m\u001b[0m\u001b[0m\n",
      "\u001b[1;31mAttributeError\u001b[0m: 'WebDriver' object has no attribute 'find_element_by_xpath'"
     ]
    }
   ],
   "source": [
    "#Import Selenium\n",
    "from selenium import webdriver\n",
    "import pandas as pd\n",
    "import time\n",
    "\n",
    "#Writing our First Selenium Python Test\n",
    "web = 'https://sports.tipico.de/en/all/football/spain/la-liga' #you can choose any other league (update 1)\n",
    "path = '/Users/.../chromedriver'\n",
    "driver = webdriver.Chrome(path)\n",
    "driver.get(web)\n",
    "\n",
    "#Make ChromeDriver click a button\n",
    "time.sleep(5) #add implicit wait, if necessary\n",
    "accept = driver.find_element_by_xpath('//*[@id=\"_evidon-accept-button\"]')\n",
    "accept.click()\n",
    "\n",
    "#Initialize your storage\n",
    "teams = []\n",
    "x12 = [] #3-way\n",
    "odds_events = []\n",
    "\n",
    "#scroll down to the bottom to load upcoming matches (update 2: not necessary anymore)\n",
    "#driver.execute_script(\"window.scrollTo(0, document.body.scrollHeight)\")\n",
    "#time.sleep(3) #add implicit wait to let the driver load the elements of the upcoming matches section.\n",
    "\n",
    "#select only upcoming matches box\n",
    "box = driver.find_element_by_xpath('//div[contains(@testid, \"Program_SELECTION\")]') #update 3\n",
    "#Looking for 'sports titles'\n",
    "sport_title = box.find_elements_by_class_name('SportTitle-styles-sport')\n",
    "\n",
    "for sport in sport_title:\n",
    "    # selecting only football\n",
    "    if sport.text == 'Football':\n",
    "        parent = sport.find_element_by_xpath('./..') #immediate parent node\n",
    "        grandparent = parent.find_element_by_xpath('./..') #grandparent node = the whole 'football' section\n",
    "        #Looking for single row events\n",
    "        single_row_events = grandparent.find_elements_by_class_name('EventRow-styles-event-row')\n",
    "        #Getting data\n",
    "        for match in single_row_events:\n",
    "            #'odd_events'\n",
    "            odds_event = match.find_elements_by_class_name('EventOddGroup-styles-odd-groups')\n",
    "            odds_events.append(odds_event)\n",
    "            # Team names\n",
    "            for team in match.find_elements_by_class_name('EventTeams-styles-titles'):\n",
    "                teams.append(team.text)\n",
    "        #Getting data: the odds        \n",
    "        for odds_event in odds_events:\n",
    "            for n, box in enumerate(odds_event):\n",
    "                rows = box.find_elements_by_xpath('.//*')\n",
    "                if n == 0:\n",
    "                    x12.append(rows[0].text)\n",
    "\n",
    "driver.quit()\n",
    "#Storing lists within dictionary\n",
    "dict_gambling = {'Teams': teams, '1x2': x12}\n",
    "#Presenting data in dataframe\n",
    "df_gambling = pd.DataFrame.from_dict(dict_gambling)\n",
    "print(df_gambling)"
   ]
  }
 ],
 "metadata": {
  "colab": {
   "provenance": []
  },
  "kernelspec": {
   "display_name": "Python 3 (ipykernel)",
   "language": "python",
   "name": "python3"
  },
  "language_info": {
   "codemirror_mode": {
    "name": "ipython",
    "version": 3
   },
   "file_extension": ".py",
   "mimetype": "text/x-python",
   "name": "python",
   "nbconvert_exporter": "python",
   "pygments_lexer": "ipython3",
   "version": "3.7.1"
  }
 },
 "nbformat": 4,
 "nbformat_minor": 1
}
