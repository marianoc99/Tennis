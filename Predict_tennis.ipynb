{
 "cells": [
  {
   "cell_type": "markdown",
   "metadata": {},
   "source": [
    "# Predicting tennis outcomes"
   ]
  },
  {
   "cell_type": "markdown",
   "metadata": {},
   "source": [
    "### Import Libraries"
   ]
  },
  {
   "cell_type": "code",
   "execution_count": 1,
   "metadata": {
    "id": "AcLYy0cM_eTc"
   },
   "outputs": [],
   "source": [
    "import pandas as pd\n",
    "import numpy as np\n",
    "import requests\n",
    "import json\n",
    "import os\n",
    "from datetime import datetime\n",
    "import pandas as pd\n",
    "from sklearn.linear_model import LogisticRegression\n",
    "from sklearn.model_selection import train_test_split"
   ]
  },
  {
   "cell_type": "markdown",
   "metadata": {},
   "source": [
    "### Import Datasets"
   ]
  },
  {
   "cell_type": "code",
   "execution_count": 2,
   "metadata": {
    "colab": {
     "base_uri": "https://localhost:8080/",
     "height": 235
    },
    "id": "7MjoegYm_kKv",
    "outputId": "cd8ae3fe-05c7-4d99-b167-dbcb144818ee"
   },
   "outputs": [],
   "source": [
    "#Players\n",
    "players_df = pd.read_csv(\"atp_players.csv\")\n",
    "players_df[\"full_name\"] = players_df[\"name_first\"] + \" \" + players_df[\"name_last\"]\n",
    "\n",
    "#Newest Rankings - sorted\n",
    "rankings_df = pd.read_csv(\"atp_rankings_current.csv\")\n",
    "newest_version = rankings_df.sort_values(\"ranking_date\", ascending = False).loc[0,\"ranking_date\"]\n",
    "rankings_df = rankings_df.loc[rankings_df[\"ranking_date\"] == newest_version]\n",
    "rankings_df = rankings_df.sort_values(\"rank\", ascending = True, ignore_index=True)\n",
    "\n",
    "#Matches between 2001 and 2023\n",
    "matches = pd.DataFrame()\n",
    "for year in range(2001,2024):\n",
    "  df = pd.read_csv(\"atp_matches_\"+ str(year) +\".csv\")\n",
    "  matches = matches.append(df)\n",
    "\n",
    "matches.index = range(len(matches))\n",
    "matches['tourney_date'] = pd.to_datetime(matches['tourney_date'], format='%Y%m%d')\n",
    "\n",
    "#Surfaces\n",
    "surfaces = {0:\"Hard\", 1: \"Clay\", 2: \"Grass\"}"
   ]
  },
  {
   "cell_type": "markdown",
   "metadata": {},
   "source": [
    "### Define Classes"
   ]
  },
  {
   "cell_type": "code",
   "execution_count": 3,
   "metadata": {
    "id": "z05xeYJRTCf1"
   },
   "outputs": [],
   "source": [
    "class Player:\n",
    "\n",
    "    def __init__(self, full_name, age = None):\n",
    "        self.name = full_name\n",
    "        self.age = age\n",
    "        self.id = int(players_df[\"player_id\"].loc[players_df[\"full_name\"] == full_name].values[0])\n",
    "        self.nationality = players_df[\"ioc\"].loc[players_df[\"full_name\"] == full_name].values[0]\n",
    "        self.hand = players_df[\"hand\"].loc[players_df[\"full_name\"] == full_name].values[0]\n",
    "        self.height = players_df[\"height\"].loc[players_df[\"full_name\"] == full_name].values[0]\n",
    "        self.n_wins = len(matches.loc[matches[\"winner_id\"] == self.id].index)\n",
    "        self.n_losses = len(matches.loc[matches[\"loser_id\"] == self.id].index)\n",
    "        self.total_matches = self.n_wins + self.n_losses\n",
    "    \n",
    "        #Winning Percentage\n",
    "        if self.total_matches > 0:\n",
    "            self.winning_percentage = self.n_wins/(self.total_matches)\n",
    "        else:\n",
    "            self.winning_percentage = \"\"\n",
    "\n",
    "        #Best Surface\n",
    "        try:\n",
    "            wp_surfaces = list(map(self.get_winning_perc_per_surface,(\"Hard\",\"Clay\",\"Grass\")))\n",
    "            index_max = max(range(len(wp_surfaces)), key=wp_surfaces.__getitem__)\n",
    "            self.best_surface = surfaces[index_max]\n",
    "        except TypeError:\n",
    "            self.best_surface = \"\"\n",
    "\n",
    "    def get_winning_perc_per_surface(self,surface):\n",
    "        n_wins = len(matches.loc[(matches[\"surface\"] == surface) & (matches[\"winner_id\"] == self.id)].index)\n",
    "        n_losses = len(matches.loc[(matches[\"surface\"] == surface) & (matches[\"loser_id\"] == self.id)].index)\n",
    "        if (n_wins+n_losses) > 0:\n",
    "            return(n_wins/(n_wins+n_losses))\n",
    "\n",
    "\n",
    "    def H2H(self,opponent):\n",
    "        opponent_id = Player(opponent).id\n",
    "        n_wins = len(matches.loc[(matches[\"winner_id\"] == self.id) &\n",
    "                                 (matches[\"loser_id\"] == opponent_id)].index)\n",
    "        n_losses = len(matches.loc[(matches[\"loser_id\"] == self.id) &\n",
    "                                   (matches[\"winner_id\"] == opponent_id)].index)\n",
    "        print(str(n_wins),\"-\",str(n_losses))\n",
    "\n",
    "\n",
    "    def H2H_per_surface(self,opponent,surface):\n",
    "        opponent_id = Player(opponent).id\n",
    "        n_wins = len(matches.loc[(matches[\"winner_id\"] == self.id) &\n",
    "                                 (matches[\"loser_id\"] == opponent_id) &\n",
    "                                 (matches[\"surface\"] == surface)].index)\n",
    "\n",
    "        n_losses = len(matches.loc[(matches[\"loser_id\"] == self.id) &\n",
    "                                   (matches[\"winner_id\"] == opponent_id) &\n",
    "                                   (matches[\"surface\"] == surface)].index)\n",
    "        print(str(n_wins),\"-\",str(n_losses))\n",
    "\n",
    "    def get_aces_per_match(self):\n",
    "        if self.total_matches != 0:\n",
    "            aces_wins = matches[\"w_ace\"].loc[matches[\"winner_id\"] == self.id].sum()\n",
    "            aces_losses = matches[\"l_ace\"].loc[matches[\"loser_id\"] == self.id].sum()\n",
    "            return (aces_wins + aces_losses)/self.total_matches\n",
    "\n",
    "    def get_double_faults_per_match(self):\n",
    "        if self.total_matches != 0:\n",
    "            df_wins = matches[\"w_df\"].loc[matches[\"winner_id\"] == self.id].sum()\n",
    "            df_losses = matches[\"l_df\"].loc[matches[\"loser_id\"] == self.id].sum()\n",
    "            return (df_wins + df_losses)/self.total_matches\n",
    "\n",
    "    def calculate_win_percentage_last_3_months(self, gameday):\n",
    "        #gameday = pd.to_datetime(str(gameday), format='%Y%m%d')\n",
    "\n",
    "        # Calculate the start date of the 3-month period\n",
    "        three_months_ago = gameday - pd.DateOffset(months=3)\n",
    "\n",
    "        # Filter matches DataFrame to include only matches played in the last 3 months\n",
    "        mask = (matches['tourney_date'] >= pd.Timestamp(three_months_ago)) & (matches['tourney_date'] <= pd.Timestamp(gameday))\n",
    "        player_matches = matches[(matches['winner_id'] == self.id) | (matches['loser_id'] == self.id)][mask]\n",
    "\n",
    "        # Calculate number of games won and lost by player\n",
    "        games_won_last_3_months = len(player_matches[player_matches['winner_id'] == self.id])\n",
    "        games_lost_last_3_months = len(player_matches[player_matches['loser_id'] == self.id])\n",
    "\n",
    "        # Calculate win percentage\n",
    "        total_games_last_3_months = games_won_last_3_months + games_lost_last_3_months\n",
    "        win_percentage = games_won_last_3_months / total_games_last_3_months if total_games_last_3_months > 0 else None\n",
    "\n",
    "        return win_percentage\n",
    "    \n",
    "    def summary(self, suffix=''):\n",
    "        data = {\n",
    "                f\"Player{suffix}\": [self.name],\n",
    "                f\"Age{suffix}\": [self.age],\n",
    "                f\"Winning %{suffix}\": [self.winning_percentage],\n",
    "                f\"Avg. Aces/Match{suffix}\": [self.get_aces_per_match()],\n",
    "                f\"Avg. Double Faults/Match{suffix}\": [self.get_double_faults_per_match()],\n",
    "                f\"Best Surface{suffix}\": [self.best_surface]\n",
    "            }\n",
    "\n",
    "        return pd.DataFrame(data)"
   ]
  },
  {
   "cell_type": "code",
   "execution_count": 104,
   "metadata": {
    "id": "CkhxQ-dPFAA0"
   },
   "outputs": [],
   "source": [
    "class Match:\n",
    "    \n",
    "    def __init__(self, match_string, ranking_string = None):\n",
    "        self.match_string = match_string\n",
    "        \n",
    "        # Separar los nombres de los jugadores\n",
    "        self.player1_name, self.player2_name = match_string.split(\" - \")\n",
    "        \n",
    "        # Crear instancias de la clase Player para cada jugador\n",
    "        self.player1 = Player(self.player1_name)\n",
    "        self.player2 = Player(self.player2_name)\n",
    "        \n",
    "        # Separar los rankings de los jugadores\n",
    "        if ranking_string != None:\n",
    "            self.player1_ranking, self.player2_ranking = ranking_string.split(\" - \")\n",
    "        \n",
    "    def get_summary(self, gameday, surface = None, level = None):\n",
    "        #Players data\n",
    "        df1 = self.player1.summary(suffix='_1')\n",
    "        df2 = self.player2.summary(suffix='_2')\n",
    "        self.df = pd.concat([df1, df2], axis=1)\n",
    "        \n",
    "        #Match Data\n",
    "        self.df[\"surface\"] = surface\n",
    "        self.df[\"tourney_level\"] = level\n",
    "        \n",
    "        #More Player data\n",
    "        self.df[\"Ranking_1\"] = self.player1_ranking\n",
    "        self.df[\"Ranking_2\"] = self.player2_ranking\n",
    "        \n",
    "        self.df[\"Best Surface_1\"] = (self.player1.best_surface == surface)\n",
    "        self.df[\"Best Surface_2\"] = (self.player2.best_surface == surface)\n",
    "        \n",
    "        self.df[\"Win %_last 3 months_1\"] = self.player1.calculate_win_percentage_last_3_months(gameday)\n",
    "        self.df[\"Win %_last 3 months_2\"] = self.player2.calculate_win_percentage_last_3_months(gameday)\n",
    "        \n",
    "        return self.df"
   ]
  },
  {
   "cell_type": "markdown",
   "metadata": {},
   "source": [
    "### Train ML-Model"
   ]
  },
  {
   "cell_type": "code",
   "execution_count": 48,
   "metadata": {},
   "outputs": [],
   "source": [
    "# Define function for preparing data\n",
    "def execute_match(df):\n",
    "    results = []\n",
    "    for _, row in df.iterrows():\n",
    "        winner = row[\"winner_name\"]\n",
    "        loser = row[\"loser_name\"]\n",
    "        winner_rank = row[\"winner_rank\"]\n",
    "        loser_rank = row[\"loser_rank\"]\n",
    "        if np.random.randint(0, 2) == 1:\n",
    "            match = Match(f\"{winner} - {loser}\", f\"{winner_rank} - {loser_rank}\")\n",
    "            result = np.ravel(match.get_summary(row[\"tourney_date\"],row[\"surface\"], row[\"tourney_level\"]))\n",
    "            result = np.append(result, 1)\n",
    "            \n",
    "        else:\n",
    "            match = Match(f\"{loser} - {winner}\", f\"{loser_rank} - {winner_rank}\")\n",
    "            result = np.ravel(match.get_summary(row[\"tourney_date\"],row[\"surface\"], row[\"tourney_level\"]))\n",
    "            result = np.append(result, 0)\n",
    "\n",
    "        results.append(result)\n",
    "    return pd.DataFrame(results, columns = ['Player_1', 'Age_1', 'Winning %_1', 'Avg. Aces/Match_1', 'Avg. Double Faults/Match_1', 'Best Surface_1', 'Player_2', 'Age_2', 'Winning %_2', 'Avg. Aces/Match_2', 'Avg. Double Faults/Match_2', 'Best Surface_2', 'surface', 'tourney_level', 'Ranking_1', 'Ranking_2', 'Win %_last 3 months_1', 'Win %_last 3 months_2','Player 1 wins'])"
   ]
  },
  {
   "cell_type": "code",
   "execution_count": 96,
   "metadata": {},
   "outputs": [
    {
     "name": "stderr",
     "output_type": "stream",
     "text": [
      "C:\\Users\\marianocarmona\\AppData\\Local\\miniconda\\envs\\v37\\lib\\site-packages\\ipykernel_launcher.py:75: UserWarning: Boolean Series key will be reindexed to match DataFrame index.\n"
     ]
    }
   ],
   "source": [
    "#Tomemos los ultimos 40000 partidos\n",
    "test = matches.loc[50000:50200]\n",
    "df = execute_match(test)"
   ]
  },
  {
   "cell_type": "code",
   "execution_count": 97,
   "metadata": {},
   "outputs": [
    {
     "data": {
      "text/html": [
       "<div>\n",
       "<style scoped>\n",
       "    .dataframe tbody tr th:only-of-type {\n",
       "        vertical-align: middle;\n",
       "    }\n",
       "\n",
       "    .dataframe tbody tr th {\n",
       "        vertical-align: top;\n",
       "    }\n",
       "\n",
       "    .dataframe thead th {\n",
       "        text-align: right;\n",
       "    }\n",
       "</style>\n",
       "<table border=\"1\" class=\"dataframe\">\n",
       "  <thead>\n",
       "    <tr style=\"text-align: right;\">\n",
       "      <th></th>\n",
       "      <th>Ranking_1</th>\n",
       "      <th>Ranking_2</th>\n",
       "      <th>Win %_last 3 months_1</th>\n",
       "      <th>Win %_last 3 months_2</th>\n",
       "      <th>Avg. Aces/Match_1</th>\n",
       "      <th>Avg. Aces/Match_2</th>\n",
       "      <th>Avg. Double Faults/Match_1</th>\n",
       "      <th>Avg. Double Faults/Match_2</th>\n",
       "      <th>surface</th>\n",
       "      <th>Player 1 wins</th>\n",
       "    </tr>\n",
       "  </thead>\n",
       "  <tbody>\n",
       "    <tr>\n",
       "      <th>0</th>\n",
       "      <td>4.0</td>\n",
       "      <td>12.0</td>\n",
       "      <td>0.625</td>\n",
       "      <td>0.750000</td>\n",
       "      <td>6.971655</td>\n",
       "      <td>9.439776</td>\n",
       "      <td>2.468254</td>\n",
       "      <td>2.316527</td>\n",
       "      <td>0</td>\n",
       "      <td>1</td>\n",
       "    </tr>\n",
       "    <tr>\n",
       "      <th>1</th>\n",
       "      <td>9.0</td>\n",
       "      <td>3.0</td>\n",
       "      <td>0.800</td>\n",
       "      <td>0.647059</td>\n",
       "      <td>3.071210</td>\n",
       "      <td>14.488455</td>\n",
       "      <td>1.644717</td>\n",
       "      <td>3.062167</td>\n",
       "      <td>0</td>\n",
       "      <td>1</td>\n",
       "    </tr>\n",
       "    <tr>\n",
       "      <th>2</th>\n",
       "      <td>11.0</td>\n",
       "      <td>15.0</td>\n",
       "      <td>0.600</td>\n",
       "      <td>0.764706</td>\n",
       "      <td>5.106306</td>\n",
       "      <td>6.688576</td>\n",
       "      <td>3.246847</td>\n",
       "      <td>3.397496</td>\n",
       "      <td>0</td>\n",
       "      <td>0</td>\n",
       "    </tr>\n",
       "    <tr>\n",
       "      <th>3</th>\n",
       "      <td>4.0</td>\n",
       "      <td>17.0</td>\n",
       "      <td>0.625</td>\n",
       "      <td>1.000000</td>\n",
       "      <td>6.971655</td>\n",
       "      <td>7.524931</td>\n",
       "      <td>2.468254</td>\n",
       "      <td>1.682825</td>\n",
       "      <td>0</td>\n",
       "      <td>0</td>\n",
       "    </tr>\n",
       "    <tr>\n",
       "      <th>4</th>\n",
       "      <td>9.0</td>\n",
       "      <td>15.0</td>\n",
       "      <td>0.800</td>\n",
       "      <td>0.764706</td>\n",
       "      <td>3.071210</td>\n",
       "      <td>6.688576</td>\n",
       "      <td>1.644717</td>\n",
       "      <td>3.397496</td>\n",
       "      <td>0</td>\n",
       "      <td>1</td>\n",
       "    </tr>\n",
       "  </tbody>\n",
       "</table>\n",
       "</div>"
      ],
      "text/plain": [
       "  Ranking_1 Ranking_2  Win %_last 3 months_1  Win %_last 3 months_2  \\\n",
       "0       4.0      12.0                  0.625               0.750000   \n",
       "1       9.0       3.0                  0.800               0.647059   \n",
       "2      11.0      15.0                  0.600               0.764706   \n",
       "3       4.0      17.0                  0.625               1.000000   \n",
       "4       9.0      15.0                  0.800               0.764706   \n",
       "\n",
       "   Avg. Aces/Match_1  Avg. Aces/Match_2  Avg. Double Faults/Match_1  \\\n",
       "0           6.971655           9.439776                    2.468254   \n",
       "1           3.071210          14.488455                    1.644717   \n",
       "2           5.106306           6.688576                    3.246847   \n",
       "3           6.971655           7.524931                    2.468254   \n",
       "4           3.071210           6.688576                    1.644717   \n",
       "\n",
       "   Avg. Double Faults/Match_2  surface  Player 1 wins  \n",
       "0                    2.316527        0              1  \n",
       "1                    3.062167        0              1  \n",
       "2                    3.397496        0              0  \n",
       "3                    1.682825        0              0  \n",
       "4                    3.397496        0              1  "
      ]
     },
     "execution_count": 97,
     "metadata": {},
     "output_type": "execute_result"
    }
   ],
   "source": [
    "surface_mapping = {'Hard': 0, 'Clay': 1, 'Grass': 2, 'Carpet': 3}\n",
    "df['surface'] = df['surface'].replace(surface_mapping)\n",
    "\n",
    "#tourney_level_map = {'G': 1, 'M': 2, 'A': 3, 'C': 4, 'S': 5, 'F': 6, 'D': 7}\n",
    "#df['tourney_level'] = df['tourney_level'].map(tourney_level_map)\n",
    "\n",
    "#surface_logical = {False : 0, True: 1}\n",
    "#df['Best Surface_1'] = df['Best Surface_1'].replace(surface_logical)\n",
    "#df[\"Best Surface_2\"] = df['Best Surface_2'].replace(surface_logical)\n",
    "\n",
    "# Define the input features and the target attribute\n",
    "input_features = ['Ranking_1', 'Ranking_2', 'Win %_last 3 months_1', 'Win %_last 3 months_2', 'Avg. Aces/Match_1', 'Avg. Aces/Match_2', 'Avg. Double Faults/Match_1', 'Avg. Double Faults/Match_2', 'surface']\n",
    "output_feature = 'Player 1 wins'\n",
    "\n",
    "\n",
    "#Filter out NAs\n",
    "df = df[input_features + [\"Player 1 wins\"]]\n",
    "df = df.dropna()\n",
    "df. head()"
   ]
  },
  {
   "cell_type": "code",
   "execution_count": 98,
   "metadata": {},
   "outputs": [
    {
     "ename": "ValueError",
     "evalue": "Input contains NaN, infinity or a value too large for dtype('float64').",
     "output_type": "error",
     "traceback": [
      "\u001b[1;31m---------------------------------------------------------------------------\u001b[0m",
      "\u001b[1;31mValueError\u001b[0m                                Traceback (most recent call last)",
      "\u001b[1;32m~\\AppData\\Local\\Temp\\ipykernel_25492\\2762670212.py\u001b[0m in \u001b[0;36m<module>\u001b[1;34m\u001b[0m\n\u001b[0;32m      7\u001b[0m \u001b[1;31m# Train logistic regression model\u001b[0m\u001b[1;33m\u001b[0m\u001b[1;33m\u001b[0m\u001b[1;33m\u001b[0m\u001b[0m\n\u001b[0;32m      8\u001b[0m \u001b[0mmodel\u001b[0m \u001b[1;33m=\u001b[0m \u001b[0mLogisticRegression\u001b[0m\u001b[1;33m(\u001b[0m\u001b[0mrandom_state\u001b[0m\u001b[1;33m=\u001b[0m\u001b[1;36m42\u001b[0m\u001b[1;33m)\u001b[0m\u001b[1;33m\u001b[0m\u001b[1;33m\u001b[0m\u001b[0m\n\u001b[1;32m----> 9\u001b[1;33m \u001b[0mmodel\u001b[0m\u001b[1;33m.\u001b[0m\u001b[0mfit\u001b[0m\u001b[1;33m(\u001b[0m\u001b[0mX_train\u001b[0m\u001b[1;33m,\u001b[0m \u001b[0my_train\u001b[0m\u001b[1;33m)\u001b[0m\u001b[1;33m\u001b[0m\u001b[1;33m\u001b[0m\u001b[0m\n\u001b[0m\u001b[0;32m     10\u001b[0m \u001b[1;33m\u001b[0m\u001b[0m\n\u001b[0;32m     11\u001b[0m \u001b[1;31m# Predict labels for test data\u001b[0m\u001b[1;33m\u001b[0m\u001b[1;33m\u001b[0m\u001b[1;33m\u001b[0m\u001b[0m\n",
      "\u001b[1;32m~\\AppData\\Local\\miniconda\\envs\\v37\\lib\\site-packages\\sklearn\\linear_model\\_logistic.py\u001b[0m in \u001b[0;36mfit\u001b[1;34m(self, X, y, sample_weight)\u001b[0m\n\u001b[0;32m   1512\u001b[0m             \u001b[0mdtype\u001b[0m\u001b[1;33m=\u001b[0m\u001b[0m_dtype\u001b[0m\u001b[1;33m,\u001b[0m\u001b[1;33m\u001b[0m\u001b[1;33m\u001b[0m\u001b[0m\n\u001b[0;32m   1513\u001b[0m             \u001b[0morder\u001b[0m\u001b[1;33m=\u001b[0m\u001b[1;34m\"C\"\u001b[0m\u001b[1;33m,\u001b[0m\u001b[1;33m\u001b[0m\u001b[1;33m\u001b[0m\u001b[0m\n\u001b[1;32m-> 1514\u001b[1;33m             \u001b[0maccept_large_sparse\u001b[0m\u001b[1;33m=\u001b[0m\u001b[0msolver\u001b[0m \u001b[1;32mnot\u001b[0m \u001b[1;32min\u001b[0m \u001b[1;33m[\u001b[0m\u001b[1;34m\"liblinear\"\u001b[0m\u001b[1;33m,\u001b[0m \u001b[1;34m\"sag\"\u001b[0m\u001b[1;33m,\u001b[0m \u001b[1;34m\"saga\"\u001b[0m\u001b[1;33m]\u001b[0m\u001b[1;33m,\u001b[0m\u001b[1;33m\u001b[0m\u001b[1;33m\u001b[0m\u001b[0m\n\u001b[0m\u001b[0;32m   1515\u001b[0m         )\n\u001b[0;32m   1516\u001b[0m         \u001b[0mcheck_classification_targets\u001b[0m\u001b[1;33m(\u001b[0m\u001b[0my\u001b[0m\u001b[1;33m)\u001b[0m\u001b[1;33m\u001b[0m\u001b[1;33m\u001b[0m\u001b[0m\n",
      "\u001b[1;32m~\\AppData\\Local\\miniconda\\envs\\v37\\lib\\site-packages\\sklearn\\base.py\u001b[0m in \u001b[0;36m_validate_data\u001b[1;34m(self, X, y, reset, validate_separately, **check_params)\u001b[0m\n\u001b[0;32m    579\u001b[0m                 \u001b[0my\u001b[0m \u001b[1;33m=\u001b[0m \u001b[0mcheck_array\u001b[0m\u001b[1;33m(\u001b[0m\u001b[0my\u001b[0m\u001b[1;33m,\u001b[0m \u001b[1;33m**\u001b[0m\u001b[0mcheck_y_params\u001b[0m\u001b[1;33m)\u001b[0m\u001b[1;33m\u001b[0m\u001b[1;33m\u001b[0m\u001b[0m\n\u001b[0;32m    580\u001b[0m             \u001b[1;32melse\u001b[0m\u001b[1;33m:\u001b[0m\u001b[1;33m\u001b[0m\u001b[1;33m\u001b[0m\u001b[0m\n\u001b[1;32m--> 581\u001b[1;33m                 \u001b[0mX\u001b[0m\u001b[1;33m,\u001b[0m \u001b[0my\u001b[0m \u001b[1;33m=\u001b[0m \u001b[0mcheck_X_y\u001b[0m\u001b[1;33m(\u001b[0m\u001b[0mX\u001b[0m\u001b[1;33m,\u001b[0m \u001b[0my\u001b[0m\u001b[1;33m,\u001b[0m \u001b[1;33m**\u001b[0m\u001b[0mcheck_params\u001b[0m\u001b[1;33m)\u001b[0m\u001b[1;33m\u001b[0m\u001b[1;33m\u001b[0m\u001b[0m\n\u001b[0m\u001b[0;32m    582\u001b[0m             \u001b[0mout\u001b[0m \u001b[1;33m=\u001b[0m \u001b[0mX\u001b[0m\u001b[1;33m,\u001b[0m \u001b[0my\u001b[0m\u001b[1;33m\u001b[0m\u001b[1;33m\u001b[0m\u001b[0m\n\u001b[0;32m    583\u001b[0m \u001b[1;33m\u001b[0m\u001b[0m\n",
      "\u001b[1;32m~\\AppData\\Local\\miniconda\\envs\\v37\\lib\\site-packages\\sklearn\\utils\\validation.py\u001b[0m in \u001b[0;36mcheck_X_y\u001b[1;34m(X, y, accept_sparse, accept_large_sparse, dtype, order, copy, force_all_finite, ensure_2d, allow_nd, multi_output, ensure_min_samples, ensure_min_features, y_numeric, estimator)\u001b[0m\n\u001b[0;32m    974\u001b[0m         \u001b[0mensure_min_samples\u001b[0m\u001b[1;33m=\u001b[0m\u001b[0mensure_min_samples\u001b[0m\u001b[1;33m,\u001b[0m\u001b[1;33m\u001b[0m\u001b[1;33m\u001b[0m\u001b[0m\n\u001b[0;32m    975\u001b[0m         \u001b[0mensure_min_features\u001b[0m\u001b[1;33m=\u001b[0m\u001b[0mensure_min_features\u001b[0m\u001b[1;33m,\u001b[0m\u001b[1;33m\u001b[0m\u001b[1;33m\u001b[0m\u001b[0m\n\u001b[1;32m--> 976\u001b[1;33m         \u001b[0mestimator\u001b[0m\u001b[1;33m=\u001b[0m\u001b[0mestimator\u001b[0m\u001b[1;33m,\u001b[0m\u001b[1;33m\u001b[0m\u001b[1;33m\u001b[0m\u001b[0m\n\u001b[0m\u001b[0;32m    977\u001b[0m     )\n\u001b[0;32m    978\u001b[0m \u001b[1;33m\u001b[0m\u001b[0m\n",
      "\u001b[1;32m~\\AppData\\Local\\miniconda\\envs\\v37\\lib\\site-packages\\sklearn\\utils\\validation.py\u001b[0m in \u001b[0;36mcheck_array\u001b[1;34m(array, accept_sparse, accept_large_sparse, dtype, order, copy, force_all_finite, ensure_2d, allow_nd, ensure_min_samples, ensure_min_features, estimator)\u001b[0m\n\u001b[0;32m    798\u001b[0m \u001b[1;33m\u001b[0m\u001b[0m\n\u001b[0;32m    799\u001b[0m         \u001b[1;32mif\u001b[0m \u001b[0mforce_all_finite\u001b[0m\u001b[1;33m:\u001b[0m\u001b[1;33m\u001b[0m\u001b[1;33m\u001b[0m\u001b[0m\n\u001b[1;32m--> 800\u001b[1;33m             \u001b[0m_assert_all_finite\u001b[0m\u001b[1;33m(\u001b[0m\u001b[0marray\u001b[0m\u001b[1;33m,\u001b[0m \u001b[0mallow_nan\u001b[0m\u001b[1;33m=\u001b[0m\u001b[0mforce_all_finite\u001b[0m \u001b[1;33m==\u001b[0m \u001b[1;34m\"allow-nan\"\u001b[0m\u001b[1;33m)\u001b[0m\u001b[1;33m\u001b[0m\u001b[1;33m\u001b[0m\u001b[0m\n\u001b[0m\u001b[0;32m    801\u001b[0m \u001b[1;33m\u001b[0m\u001b[0m\n\u001b[0;32m    802\u001b[0m     \u001b[1;32mif\u001b[0m \u001b[0mensure_min_samples\u001b[0m \u001b[1;33m>\u001b[0m \u001b[1;36m0\u001b[0m\u001b[1;33m:\u001b[0m\u001b[1;33m\u001b[0m\u001b[1;33m\u001b[0m\u001b[0m\n",
      "\u001b[1;32m~\\AppData\\Local\\miniconda\\envs\\v37\\lib\\site-packages\\sklearn\\utils\\validation.py\u001b[0m in \u001b[0;36m_assert_all_finite\u001b[1;34m(X, allow_nan, msg_dtype)\u001b[0m\n\u001b[0;32m    114\u001b[0m             raise ValueError(\n\u001b[0;32m    115\u001b[0m                 msg_err.format(\n\u001b[1;32m--> 116\u001b[1;33m                     \u001b[0mtype_err\u001b[0m\u001b[1;33m,\u001b[0m \u001b[0mmsg_dtype\u001b[0m \u001b[1;32mif\u001b[0m \u001b[0mmsg_dtype\u001b[0m \u001b[1;32mis\u001b[0m \u001b[1;32mnot\u001b[0m \u001b[1;32mNone\u001b[0m \u001b[1;32melse\u001b[0m \u001b[0mX\u001b[0m\u001b[1;33m.\u001b[0m\u001b[0mdtype\u001b[0m\u001b[1;33m\u001b[0m\u001b[1;33m\u001b[0m\u001b[0m\n\u001b[0m\u001b[0;32m    117\u001b[0m                 )\n\u001b[0;32m    118\u001b[0m             )\n",
      "\u001b[1;31mValueError\u001b[0m: Input contains NaN, infinity or a value too large for dtype('float64')."
     ]
    }
   ],
   "source": [
    "X = df[input_features]\n",
    "y = df[output_feature]\n",
    "\n",
    "# Split data into training and testing sets\n",
    "X_train, X_test, y_train, y_test = train_test_split(X, y, test_size=0.2, random_state=42)\n",
    "\n",
    "# Train logistic regression model\n",
    "model = LogisticRegression(random_state=42)\n",
    "model.fit(X_train, y_train)\n",
    "\n",
    "# Predict labels for test data\n",
    "y_pred = model.predict(X_test)\n",
    "\n",
    "# Evaluate model performance\n",
    "accuracy = accuracy_score(y_test, y_pred)\n",
    "print(\"Accuracy:\", accuracy)"
   ]
  },
  {
   "cell_type": "markdown",
   "metadata": {},
   "source": [
    "### Get data from ESPN website"
   ]
  },
  {
   "cell_type": "code",
   "execution_count": 7,
   "metadata": {
    "id": "hMG0fRElnLWm"
   },
   "outputs": [
    {
     "name": "stdout",
     "output_type": "stream",
     "text": [
      "El archivo se ha guardado con éxito\n"
     ]
    }
   ],
   "source": [
    "# Hacemos una solicitud a la API de tenis de ESPN\n",
    "response = requests.get('https://site.api.espn.com/apis/site/v2/sports/tennis/atp/scoreboard')\n",
    "\n",
    "# Verificamos si la solicitud fue exitosa\n",
    "if response.status_code == 200:\n",
    "    # Obtenemos la información de los partidos\n",
    "    data = response.json()['events']\n",
    "    \n",
    "    # Guardamos el archivo json\n",
    "    with open('datos.json', 'w') as archivo:\n",
    "      json.dump(data, archivo)\n",
    "      print(\"El archivo se ha guardado con éxito\")\n",
    "\n",
    "else:\n",
    "    # Si la solicitud no fue exitosa, mostramos un mensaje de error\n",
    "    print(\"Error al obtener los partidos. Código de estado: \", response.status_code)"
   ]
  },
  {
   "cell_type": "code",
   "execution_count": 9,
   "metadata": {
    "id": "QYKL1PcywrV3"
   },
   "outputs": [
    {
     "data": {
      "text/plain": [
       "['Daniel Evans - Jack Draper',\n",
       " 'Jannik Sinner - Richard Gasquet',\n",
       " 'Pedro Martinez - Felix Auger Aliassime',\n",
       " 'Marton Fucsovics - Alex De Minaur',\n",
       " 'Andy Murray - Radu Albot',\n",
       " 'Jan-Lennard Struff - Tommy Paul',\n",
       " 'Miomir Kecmanovic - Stan Wawrinka',\n",
       " 'Borna Coric - Alex Molcan',\n",
       " 'Francisco Cerundolo - Jack Sock',\n",
       " 'Adrian Mannarino - Lorenzo Musetti',\n",
       " 'Guido Pella - Tallon Griekspoor',\n",
       " 'Taylor Fritz - Ben Shelton',\n",
       " 'Rinky Hijikata - Sebastian Baez',\n",
       " 'Hubert Hurkacz - Alexei Popyrin',\n",
       " 'Mackenzie McDonald - Holger Rune',\n",
       " 'Carlos Alcaraz - Thanasi Kokkinakis',\n",
       " 'Cristian Garin - Casper Ruud',\n",
       " 'Daniil Medvedev - Ilya Ivashka',\n",
       " 'Taro Daniel - Cameron Norrie',\n",
       " 'Frances Tiafoe - Jason Kubler',\n",
       " 'Karen Khachanov - Alejandro Davidovich Fokina',\n",
       " 'Alejandro Tabilo - Jordan Thompson',\n",
       " 'Andrey Rublev - Ugo Humbert',\n",
       " 'Emil Ruusuvuori - Alexander Zverev']"
      ]
     },
     "execution_count": 9,
     "metadata": {},
     "output_type": "execute_result"
    }
   ],
   "source": [
    "# Obtenemos la información de los partidos\n",
    "with open('datos.json') as archivo:\n",
    "    data = json.load(archivo)\n",
    "\n",
    "# Recorremos cada partido y mostramos el nombre de los jugadores si el partido es programado para hoy\n",
    "l_matches = []\n",
    "for i in range(len(data[0][\"competitions\"])):\n",
    "    if data[0][\"competitions\"][i][\"status\"][\"type\"][\"completed\"] == False:\n",
    "        try:\n",
    "            Player_1 = data[0][\"competitions\"][i][\"competitors\"][0]['athlete'][\"fullName\"]\n",
    "            Player_2 = data[0][\"competitions\"][i][\"competitors\"][1]['athlete'][\"fullName\"]\n",
    "            l_matches += [Player_1 + \" - \" + Player_2]\n",
    "        except KeyError:\n",
    "          pass\n",
    "\n",
    "#Elimino a los partidos que todavia no tienen confirmados a sus jugadores\n",
    "l_matches = [p for p in l_matches if \"TBD\" not in p]\n",
    "\n",
    "#Jaja aguanten Aliassime y Wawrinka\n",
    "l_matches = [p.replace(\"Auger-Aliassime\",\"Auger Aliassime\") if \"Auger-Aliassime\"  in p else p for p in l_matches]\n",
    "l_matches = [p.replace(\"Stanislas\",\"Stan\") if \"Stanislas Wawrinka\" in p else p for p in l_matches]\n",
    "l_matches"
   ]
  },
  {
   "cell_type": "code",
   "execution_count": 105,
   "metadata": {
    "id": "iiUpcxlaFPv8"
   },
   "outputs": [
    {
     "name": "stderr",
     "output_type": "stream",
     "text": [
      "C:\\Users\\marianocarmona\\AppData\\Local\\miniconda\\envs\\v37\\lib\\site-packages\\ipykernel_launcher.py:6: FutureWarning: The pandas.datetime class is deprecated and will be removed from pandas in a future version. Import from datetime module instead.\n",
      "  \n"
     ]
    },
    {
     "ename": "AttributeError",
     "evalue": "'Match' object has no attribute 'player1_ranking'",
     "output_type": "error",
     "traceback": [
      "\u001b[1;31m---------------------------------------------------------------------------\u001b[0m",
      "\u001b[1;31mAttributeError\u001b[0m                            Traceback (most recent call last)",
      "\u001b[1;32m~\\AppData\\Local\\Temp\\ipykernel_25492\\1515667448.py\u001b[0m in \u001b[0;36m<module>\u001b[1;34m\u001b[0m\n\u001b[0;32m      4\u001b[0m     \u001b[1;32mtry\u001b[0m\u001b[1;33m:\u001b[0m\u001b[1;33m\u001b[0m\u001b[1;33m\u001b[0m\u001b[0m\n\u001b[0;32m      5\u001b[0m         \u001b[0mm\u001b[0m \u001b[1;33m=\u001b[0m \u001b[0mMatch\u001b[0m\u001b[1;33m(\u001b[0m\u001b[0mgame\u001b[0m\u001b[1;33m)\u001b[0m\u001b[1;33m\u001b[0m\u001b[1;33m\u001b[0m\u001b[0m\n\u001b[1;32m----> 6\u001b[1;33m         \u001b[0mdf\u001b[0m \u001b[1;33m=\u001b[0m \u001b[0mdf\u001b[0m\u001b[1;33m.\u001b[0m\u001b[0mappend\u001b[0m\u001b[1;33m(\u001b[0m\u001b[0mm\u001b[0m\u001b[1;33m.\u001b[0m\u001b[0mget_summary\u001b[0m\u001b[1;33m(\u001b[0m\u001b[0mgameday\u001b[0m \u001b[1;33m=\u001b[0m \u001b[0mpd\u001b[0m\u001b[1;33m.\u001b[0m\u001b[0mdatetime\u001b[0m\u001b[1;33m.\u001b[0m\u001b[0mtoday\u001b[0m\u001b[1;33m(\u001b[0m\u001b[1;33m)\u001b[0m\u001b[1;33m,\u001b[0m \u001b[0msurface\u001b[0m \u001b[1;33m=\u001b[0m \u001b[1;34m\"Hard\"\u001b[0m\u001b[1;33m,\u001b[0m\u001b[0mlevel\u001b[0m \u001b[1;33m=\u001b[0m \u001b[1;34m\"M\"\u001b[0m\u001b[1;33m)\u001b[0m\u001b[1;33m)\u001b[0m\u001b[1;33m\u001b[0m\u001b[1;33m\u001b[0m\u001b[0m\n\u001b[0m\u001b[0;32m      7\u001b[0m \u001b[1;33m\u001b[0m\u001b[0m\n\u001b[0;32m      8\u001b[0m     \u001b[1;32mexcept\u001b[0m \u001b[0mIndexError\u001b[0m\u001b[1;33m:\u001b[0m\u001b[1;33m\u001b[0m\u001b[1;33m\u001b[0m\u001b[0m\n",
      "\u001b[1;32m~\\AppData\\Local\\Temp\\ipykernel_25492\\819847317.py\u001b[0m in \u001b[0;36mget_summary\u001b[1;34m(self, gameday, surface, level)\u001b[0m\n\u001b[0;32m     26\u001b[0m \u001b[1;33m\u001b[0m\u001b[0m\n\u001b[0;32m     27\u001b[0m         \u001b[1;31m#More Player data\u001b[0m\u001b[1;33m\u001b[0m\u001b[1;33m\u001b[0m\u001b[1;33m\u001b[0m\u001b[0m\n\u001b[1;32m---> 28\u001b[1;33m         \u001b[0mself\u001b[0m\u001b[1;33m.\u001b[0m\u001b[0mdf\u001b[0m\u001b[1;33m[\u001b[0m\u001b[1;34m\"Ranking_1\"\u001b[0m\u001b[1;33m]\u001b[0m \u001b[1;33m=\u001b[0m \u001b[0mself\u001b[0m\u001b[1;33m.\u001b[0m\u001b[0mplayer1_ranking\u001b[0m\u001b[1;33m\u001b[0m\u001b[1;33m\u001b[0m\u001b[0m\n\u001b[0m\u001b[0;32m     29\u001b[0m         \u001b[0mself\u001b[0m\u001b[1;33m.\u001b[0m\u001b[0mdf\u001b[0m\u001b[1;33m[\u001b[0m\u001b[1;34m\"Ranking_2\"\u001b[0m\u001b[1;33m]\u001b[0m \u001b[1;33m=\u001b[0m \u001b[0mself\u001b[0m\u001b[1;33m.\u001b[0m\u001b[0mplayer2_ranking\u001b[0m\u001b[1;33m\u001b[0m\u001b[1;33m\u001b[0m\u001b[0m\n\u001b[0;32m     30\u001b[0m \u001b[1;33m\u001b[0m\u001b[0m\n",
      "\u001b[1;31mAttributeError\u001b[0m: 'Match' object has no attribute 'player1_ranking'"
     ]
    }
   ],
   "source": [
    "#Getting today's matches\n",
    "df = pd.DataFrame({})\n",
    "for game in l_matches:\n",
    "    try:\n",
    "        m = Match(game)\n",
    "        df = df.append(m.get_summary(gameday = pd.datetime.today(), surface = \"Hard\",level = \"M\"))\n",
    "    \n",
    "    except IndexError:\n",
    "        pass\n",
    "\n",
    "df"
   ]
  },
  {
   "cell_type": "code",
   "execution_count": null,
   "metadata": {},
   "outputs": [],
   "source": []
  }
 ],
 "metadata": {
  "colab": {
   "provenance": []
  },
  "kernelspec": {
   "display_name": "Python 3 (ipykernel)",
   "language": "python",
   "name": "python3"
  },
  "language_info": {
   "codemirror_mode": {
    "name": "ipython",
    "version": 3
   },
   "file_extension": ".py",
   "mimetype": "text/x-python",
   "name": "python",
   "nbconvert_exporter": "python",
   "pygments_lexer": "ipython3",
   "version": "3.7.1"
  }
 },
 "nbformat": 4,
 "nbformat_minor": 1
}
